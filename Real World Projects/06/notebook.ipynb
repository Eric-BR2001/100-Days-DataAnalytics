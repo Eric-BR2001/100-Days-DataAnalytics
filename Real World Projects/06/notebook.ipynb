{
 "cells": [
  {
   "cell_type": "markdown",
   "id": "c0672a78-54fb-4e9b-b617-bf43e781f0ba",
   "metadata": {},
   "source": [
    "![rocket_img](rocket_img.jpg)\n",
    "\n",
    "\n"
   ]
  },
  {
   "cell_type": "markdown",
   "id": "d23e9759-c345-4665-9b02-eaf3932cfa51",
   "metadata": {},
   "source": [
    "You recently quit your job to start a space logistics company that uses rockets to deliver critical cargo to colonies on demand. Since you're still in the startup phase, you're handling everything yourself, including writing the software to manage complex scheduling and timing across different space colonies.\n",
    "\n",
    "Before developing a full rocket flight planning and logistics system, you want to create core functions using Python's datetime module to handle dates, times, and durations. These basic functions are essential for your rocket delivery service. In this project, you will make simple reusable functions for working with timestamps, calculating rocket landing times based on launch and travel duration, and figuring out days until a delivery deadline to keep those customers updated!\n",
    "\n",
    "This project is data-less, but you can test your functions by calling them in the workspace and passing them the required variables."
   ]
  },
  {
   "cell_type": "code",
   "execution_count": 5,
   "id": "b73875a4-ec41-4739-8670-764f75f2804f",
   "metadata": {
    "executionCancelledAt": null,
    "executionTime": 9,
    "lastExecutedAt": 1750980090994,
    "lastExecutedByKernel": "3fedf7db-7f78-420d-8a0f-02ec919042f4",
    "lastScheduledRunId": null,
    "lastSuccessfullyExecutedCode": "# Re-run this cell\nfrom datetime import datetime, timedelta"
   },
   "outputs": [],
   "source": [
    "# Re-run this cell\n",
    "from datetime import datetime, timedelta"
   ]
  },
  {
   "cell_type": "code",
   "execution_count": 6,
   "id": "b79a3cde-42f2-48da-879c-af8bbafa6a2e",
   "metadata": {
    "executionCancelledAt": null,
    "executionTime": 49,
    "lastExecutedAt": 1750980091043,
    "lastExecutedByKernel": "3fedf7db-7f78-420d-8a0f-02ec919042f4",
    "lastScheduledRunId": null,
    "lastSuccessfullyExecutedCode": "from datetime import datetime, timedelta\n\ndef format_date(timestamp, datetime_format):\n    dt = datetime.fromtimestamp(timestamp)\n    return dt.strftime(datetime_format)\n\ndef calculate_landing_time(rocket_launch_dt, travel_duration):\n    landing_dt = rocket_launch_dt + timedelta(days=travel_duration)\n    return landing_dt.strftime(\"%d-%m-%Y\")\n\ndef days_until_delivery(expected_delivery_dt, current_dt):\n    delta = expected_delivery_dt - current_dt\n    return delta.days"
   },
   "outputs": [],
   "source": [
    "from datetime import datetime, timedelta\n",
    "\n",
    "def format_date(timestamp, datetime_format):\n",
    "    dt = datetime.fromtimestamp(timestamp)\n",
    "    return dt.strftime(datetime_format)\n",
    "\n",
    "def calculate_landing_time(rocket_launch_dt, travel_duration):\n",
    "    landing_dt = rocket_launch_dt + timedelta(days=travel_duration)\n",
    "    return landing_dt.strftime(\"%d-%m-%Y\")\n",
    "\n",
    "def days_until_delivery(expected_delivery_dt, current_dt):\n",
    "    delta = expected_delivery_dt - current_dt\n",
    "    return delta.days"
   ]
  },
  {
   "cell_type": "code",
   "execution_count": null,
   "id": "a52d24fd-340b-4db3-8018-482b630e024b",
   "metadata": {
    "executionCancelledAt": null,
    "executionTime": 54,
    "lastExecutedAt": 1750980091097,
    "lastExecutedByKernel": "3fedf7db-7f78-420d-8a0f-02ec919042f4",
    "lastScheduledRunId": null,
    "lastSuccessfullyExecutedCode": "# Example test cases\nprint(format_date(1514665153, \"%d-%m-%Y\"))  # ➜ \"30-12-2017\"\nprint(calculate_landing_time(datetime(2023, 2, 15), 20))  # ➜ \"07-03-2023\"\nprint(days_until_delivery(datetime(2023, 2, 15), datetime(2023, 2, 5)))  # ➜ 10",
    "outputsMetadata": {
     "0": {
      "height": 80,
      "type": "stream"
     }
    }
   },
   "outputs": [
    {
     "name": "stdout",
     "output_type": "stream",
     "text": [
      "30-12-2017\n",
      "07-03-2023\n",
      "10\n"
     ]
    }
   ],
   "source": [
    "print(format_date(1514665153, \"%d-%m-%Y\")) \n",
    "print(calculate_landing_time(datetime(2023, 2, 15), 20)) \n",
    "print(days_until_delivery(datetime(2023, 2, 15), datetime(2023, 2, 5)))  "
   ]
  }
 ],
 "metadata": {
  "editor": "DataCamp Workspace",
  "kernelspec": {
   "display_name": "Python 3 (ipykernel)",
   "language": "python",
   "name": "python3"
  },
  "language_info": {
   "codemirror_mode": {
    "name": "ipython",
    "version": 3
   },
   "file_extension": ".py",
   "mimetype": "text/x-python",
   "name": "python",
   "nbconvert_exporter": "python",
   "pygments_lexer": "ipython3",
   "version": "3.8.10"
  }
 },
 "nbformat": 4,
 "nbformat_minor": 5
}
